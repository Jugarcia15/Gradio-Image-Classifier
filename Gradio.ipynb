{
  "nbformat": 4,
  "nbformat_minor": 0,
  "metadata": {
    "colab": {
      "name": "Gradio",
      "provenance": [],
      "collapsed_sections": []
    },
    "kernelspec": {
      "name": "python3",
      "display_name": "Python 3"
    },
    "language_info": {
      "name": "python"
    },
    "widgets": {
      "application/vnd.jupyter.widget-state+json": {
        "9cfc7c1aa820497f8ee2d5783d256e2b": {
          "model_module": "@jupyter-widgets/controls",
          "model_name": "VBoxModel",
          "model_module_version": "1.5.0",
          "state": {
            "_dom_classes": [
              "widget-interact"
            ],
            "_model_module": "@jupyter-widgets/controls",
            "_model_module_version": "1.5.0",
            "_model_name": "VBoxModel",
            "_view_count": null,
            "_view_module": "@jupyter-widgets/controls",
            "_view_module_version": "1.5.0",
            "_view_name": "VBoxView",
            "box_style": "",
            "children": [
              "IPY_MODEL_6e5e63e0f4794144bd2bf3fdaac38dc1",
              "IPY_MODEL_3b271e7fe6a34dd0a7d7678196353543"
            ],
            "layout": "IPY_MODEL_a6ae628a7bfd4e59b5beb30c258cc7f2"
          }
        },
        "6e5e63e0f4794144bd2bf3fdaac38dc1": {
          "model_module": "@jupyter-widgets/controls",
          "model_name": "DropdownModel",
          "model_module_version": "1.5.0",
          "state": {
            "_dom_classes": [],
            "_model_module": "@jupyter-widgets/controls",
            "_model_module_version": "1.5.0",
            "_model_name": "DropdownModel",
            "_options_labels": [
              "ab.jpg",
              "ca4.jpg",
              "ab1.jpg",
              "russula mariae.jpg",
              "am (4).jpg",
              "rm7.jpg",
              "cantharellus1.jpg",
              "be (2).jpg",
              "am (1).jpg",
              "amanita_bisporigera_01.jpg",
              "boletus-edulis7.jpg",
              "am (1).jpeg",
              "am (2).jpg",
              "ab2.jpg",
              "be (3).jpg",
              "ab4.jpg",
              "ca5.jpg",
              "be (5).jpg",
              "be (1).jpg",
              "am45.jpg",
              "be (4).jpg",
              "am7.jpg",
              "ab3.jpg",
              "am (5).jpg",
              "ca2.jpg",
              "3rm.jpg",
              "rm.jpg",
              "rm45.jpg",
              "am (3).jpg",
              "rm3.jpg",
              "cantharellus.jpg",
              "rm9.jpg",
              "rm234.jpg",
              "ca3.jpg"
            ],
            "_view_count": null,
            "_view_module": "@jupyter-widgets/controls",
            "_view_module_version": "1.5.0",
            "_view_name": "DropdownView",
            "description": "file",
            "description_tooltip": null,
            "disabled": false,
            "index": 0,
            "layout": "IPY_MODEL_86a9201c252f468881bf37602970fd48",
            "style": "IPY_MODEL_1e11d9bf293a416b8c84bfabffae6147"
          }
        },
        "3b271e7fe6a34dd0a7d7678196353543": {
          "model_module": "@jupyter-widgets/output",
          "model_name": "OutputModel",
          "model_module_version": "1.0.0",
          "state": {
            "_dom_classes": [],
            "_model_module": "@jupyter-widgets/output",
            "_model_module_version": "1.0.0",
            "_model_name": "OutputModel",
            "_view_count": null,
            "_view_module": "@jupyter-widgets/output",
            "_view_module_version": "1.0.0",
            "_view_name": "OutputView",
            "layout": "IPY_MODEL_20c4c50ac4c74b49ad04085e19f06fc5",
            "msg_id": "",
            "outputs": [
              {
                "output_type": "display_data",
                "data": {
                  "text/plain": "<IPython.core.display.Image object>",
                  "image/jpeg": "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\n"
                },
                "metadata": {}
              }
            ]
          }
        },
        "a6ae628a7bfd4e59b5beb30c258cc7f2": {
          "model_module": "@jupyter-widgets/base",
          "model_name": "LayoutModel",
          "model_module_version": "1.2.0",
          "state": {
            "_model_module": "@jupyter-widgets/base",
            "_model_module_version": "1.2.0",
            "_model_name": "LayoutModel",
            "_view_count": null,
            "_view_module": "@jupyter-widgets/base",
            "_view_module_version": "1.2.0",
            "_view_name": "LayoutView",
            "align_content": null,
            "align_items": null,
            "align_self": null,
            "border": null,
            "bottom": null,
            "display": null,
            "flex": null,
            "flex_flow": null,
            "grid_area": null,
            "grid_auto_columns": null,
            "grid_auto_flow": null,
            "grid_auto_rows": null,
            "grid_column": null,
            "grid_gap": null,
            "grid_row": null,
            "grid_template_areas": null,
            "grid_template_columns": null,
            "grid_template_rows": null,
            "height": null,
            "justify_content": null,
            "justify_items": null,
            "left": null,
            "margin": null,
            "max_height": null,
            "max_width": null,
            "min_height": null,
            "min_width": null,
            "object_fit": null,
            "object_position": null,
            "order": null,
            "overflow": null,
            "overflow_x": null,
            "overflow_y": null,
            "padding": null,
            "right": null,
            "top": null,
            "visibility": null,
            "width": null
          }
        },
        "86a9201c252f468881bf37602970fd48": {
          "model_module": "@jupyter-widgets/base",
          "model_name": "LayoutModel",
          "model_module_version": "1.2.0",
          "state": {
            "_model_module": "@jupyter-widgets/base",
            "_model_module_version": "1.2.0",
            "_model_name": "LayoutModel",
            "_view_count": null,
            "_view_module": "@jupyter-widgets/base",
            "_view_module_version": "1.2.0",
            "_view_name": "LayoutView",
            "align_content": null,
            "align_items": null,
            "align_self": null,
            "border": null,
            "bottom": null,
            "display": null,
            "flex": null,
            "flex_flow": null,
            "grid_area": null,
            "grid_auto_columns": null,
            "grid_auto_flow": null,
            "grid_auto_rows": null,
            "grid_column": null,
            "grid_gap": null,
            "grid_row": null,
            "grid_template_areas": null,
            "grid_template_columns": null,
            "grid_template_rows": null,
            "height": null,
            "justify_content": null,
            "justify_items": null,
            "left": null,
            "margin": null,
            "max_height": null,
            "max_width": null,
            "min_height": null,
            "min_width": null,
            "object_fit": null,
            "object_position": null,
            "order": null,
            "overflow": null,
            "overflow_x": null,
            "overflow_y": null,
            "padding": null,
            "right": null,
            "top": null,
            "visibility": null,
            "width": null
          }
        },
        "1e11d9bf293a416b8c84bfabffae6147": {
          "model_module": "@jupyter-widgets/controls",
          "model_name": "DescriptionStyleModel",
          "model_module_version": "1.5.0",
          "state": {
            "_model_module": "@jupyter-widgets/controls",
            "_model_module_version": "1.5.0",
            "_model_name": "DescriptionStyleModel",
            "_view_count": null,
            "_view_module": "@jupyter-widgets/base",
            "_view_module_version": "1.2.0",
            "_view_name": "StyleView",
            "description_width": ""
          }
        },
        "20c4c50ac4c74b49ad04085e19f06fc5": {
          "model_module": "@jupyter-widgets/base",
          "model_name": "LayoutModel",
          "model_module_version": "1.2.0",
          "state": {
            "_model_module": "@jupyter-widgets/base",
            "_model_module_version": "1.2.0",
            "_model_name": "LayoutModel",
            "_view_count": null,
            "_view_module": "@jupyter-widgets/base",
            "_view_module_version": "1.2.0",
            "_view_name": "LayoutView",
            "align_content": null,
            "align_items": null,
            "align_self": null,
            "border": null,
            "bottom": null,
            "display": null,
            "flex": null,
            "flex_flow": null,
            "grid_area": null,
            "grid_auto_columns": null,
            "grid_auto_flow": null,
            "grid_auto_rows": null,
            "grid_column": null,
            "grid_gap": null,
            "grid_row": null,
            "grid_template_areas": null,
            "grid_template_columns": null,
            "grid_template_rows": null,
            "height": null,
            "justify_content": null,
            "justify_items": null,
            "left": null,
            "margin": null,
            "max_height": null,
            "max_width": null,
            "min_height": null,
            "min_width": null,
            "object_fit": null,
            "object_position": null,
            "order": null,
            "overflow": null,
            "overflow_x": null,
            "overflow_y": null,
            "padding": null,
            "right": null,
            "top": null,
            "visibility": null,
            "width": null
          }
        }
      }
    }
  },
  "cells": [
    {
      "cell_type": "markdown",
      "source": [
        "# Necessary Imports and Declarations"
      ],
      "metadata": {
        "id": "5boRldfZ2A9v"
      }
    },
    {
      "cell_type": "code",
      "execution_count": 2,
      "metadata": {
        "id": "ISTn0qW85YdT",
        "colab": {
          "base_uri": "https://localhost:8080/"
        },
        "outputId": "4b78103a-da88-4bb4-aab8-7e58903518e1"
      },
      "outputs": [
        {
          "output_type": "stream",
          "name": "stdout",
          "text": [
            "Looking in indexes: https://pypi.org/simple, https://us-python.pkg.dev/colab-wheels/public/simple/\n",
            "Collecting gradio\n",
            "  Downloading gradio-3.0.24-py3-none-any.whl (5.1 MB)\n",
            "\u001b[K     |████████████████████████████████| 5.1 MB 4.9 MB/s \n",
            "\u001b[?25hCollecting fsspec\n",
            "  Downloading fsspec-2022.5.0-py3-none-any.whl (140 kB)\n",
            "\u001b[K     |████████████████████████████████| 140 kB 47.2 MB/s \n",
            "\u001b[?25hCollecting httpx\n",
            "  Downloading httpx-0.23.0-py3-none-any.whl (84 kB)\n",
            "\u001b[K     |████████████████████████████████| 84 kB 3.2 MB/s \n",
            "\u001b[?25hCollecting aiohttp\n",
            "  Downloading aiohttp-3.8.1-cp37-cp37m-manylinux_2_5_x86_64.manylinux1_x86_64.manylinux_2_12_x86_64.manylinux2010_x86_64.whl (1.1 MB)\n",
            "\u001b[K     |████████████████████████████████| 1.1 MB 49.5 MB/s \n",
            "\u001b[?25hCollecting ffmpy\n",
            "  Downloading ffmpy-0.3.0.tar.gz (4.8 kB)\n",
            "Collecting paramiko\n",
            "  Downloading paramiko-2.11.0-py2.py3-none-any.whl (212 kB)\n",
            "\u001b[K     |████████████████████████████████| 212 kB 44.6 MB/s \n",
            "\u001b[?25hCollecting markdown-it-py[linkify,plugins]\n",
            "  Downloading markdown_it_py-2.1.0-py3-none-any.whl (84 kB)\n",
            "\u001b[K     |████████████████████████████████| 84 kB 3.2 MB/s \n",
            "\u001b[?25hCollecting python-multipart\n",
            "  Downloading python-multipart-0.0.5.tar.gz (32 kB)\n",
            "Requirement already satisfied: pandas in /usr/local/lib/python3.7/dist-packages (from gradio) (1.3.5)\n",
            "Requirement already satisfied: requests in /usr/local/lib/python3.7/dist-packages (from gradio) (2.23.0)\n",
            "Collecting uvicorn\n",
            "  Downloading uvicorn-0.18.2-py3-none-any.whl (57 kB)\n",
            "\u001b[K     |████████████████████████████████| 57 kB 3.7 MB/s \n",
            "\u001b[?25hCollecting orjson\n",
            "  Downloading orjson-3.7.7-cp37-cp37m-manylinux_2_17_x86_64.manylinux2014_x86_64.whl (272 kB)\n",
            "\u001b[K     |████████████████████████████████| 272 kB 57.9 MB/s \n",
            "\u001b[?25hCollecting analytics-python\n",
            "  Downloading analytics_python-1.4.0-py2.py3-none-any.whl (15 kB)\n",
            "Requirement already satisfied: pillow in /usr/local/lib/python3.7/dist-packages (from gradio) (7.1.2)\n",
            "Requirement already satisfied: pydantic in /usr/local/lib/python3.7/dist-packages (from gradio) (1.8.2)\n",
            "Collecting pydub\n",
            "  Downloading pydub-0.25.1-py2.py3-none-any.whl (32 kB)\n",
            "Collecting fastapi\n",
            "  Downloading fastapi-0.78.0-py3-none-any.whl (54 kB)\n",
            "\u001b[K     |████████████████████████████████| 54 kB 2.1 MB/s \n",
            "\u001b[?25hRequirement already satisfied: Jinja2 in /usr/local/lib/python3.7/dist-packages (from gradio) (2.11.3)\n",
            "Requirement already satisfied: numpy in /usr/local/lib/python3.7/dist-packages (from gradio) (1.21.6)\n",
            "Requirement already satisfied: matplotlib in /usr/local/lib/python3.7/dist-packages (from gradio) (3.2.2)\n",
            "Collecting pycryptodome\n",
            "  Downloading pycryptodome-3.15.0-cp35-abi3-manylinux2010_x86_64.whl (2.3 MB)\n",
            "\u001b[K     |████████████████████████████████| 2.3 MB 50.0 MB/s \n",
            "\u001b[?25hCollecting asynctest==0.13.0\n",
            "  Downloading asynctest-0.13.0-py3-none-any.whl (26 kB)\n",
            "Collecting yarl<2.0,>=1.0\n",
            "  Downloading yarl-1.7.2-cp37-cp37m-manylinux_2_5_x86_64.manylinux1_x86_64.manylinux_2_12_x86_64.manylinux2010_x86_64.whl (271 kB)\n",
            "\u001b[K     |████████████████████████████████| 271 kB 44.4 MB/s \n",
            "\u001b[?25hCollecting aiosignal>=1.1.2\n",
            "  Downloading aiosignal-1.2.0-py3-none-any.whl (8.2 kB)\n",
            "Collecting async-timeout<5.0,>=4.0.0a3\n",
            "  Downloading async_timeout-4.0.2-py3-none-any.whl (5.8 kB)\n",
            "Requirement already satisfied: typing-extensions>=3.7.4 in /usr/local/lib/python3.7/dist-packages (from aiohttp->gradio) (4.1.1)\n",
            "Collecting multidict<7.0,>=4.5\n",
            "  Downloading multidict-6.0.2-cp37-cp37m-manylinux_2_17_x86_64.manylinux2014_x86_64.whl (94 kB)\n",
            "\u001b[K     |████████████████████████████████| 94 kB 3.4 MB/s \n",
            "\u001b[?25hRequirement already satisfied: charset-normalizer<3.0,>=2.0 in /usr/local/lib/python3.7/dist-packages (from aiohttp->gradio) (2.1.0)\n",
            "Collecting frozenlist>=1.1.1\n",
            "  Downloading frozenlist-1.3.0-cp37-cp37m-manylinux_2_5_x86_64.manylinux1_x86_64.manylinux_2_17_x86_64.manylinux2014_x86_64.whl (144 kB)\n",
            "\u001b[K     |████████████████████████████████| 144 kB 58.7 MB/s \n",
            "\u001b[?25hRequirement already satisfied: attrs>=17.3.0 in /usr/local/lib/python3.7/dist-packages (from aiohttp->gradio) (21.4.0)\n",
            "Requirement already satisfied: idna>=2.0 in /usr/local/lib/python3.7/dist-packages (from yarl<2.0,>=1.0->aiohttp->gradio) (2.10)\n",
            "Requirement already satisfied: six>=1.5 in /usr/local/lib/python3.7/dist-packages (from analytics-python->gradio) (1.15.0)\n",
            "Requirement already satisfied: python-dateutil>2.1 in /usr/local/lib/python3.7/dist-packages (from analytics-python->gradio) (2.8.2)\n",
            "Collecting monotonic>=1.5\n",
            "  Downloading monotonic-1.6-py2.py3-none-any.whl (8.2 kB)\n",
            "Collecting backoff==1.10.0\n",
            "  Downloading backoff-1.10.0-py2.py3-none-any.whl (31 kB)\n",
            "Requirement already satisfied: urllib3!=1.25.0,!=1.25.1,<1.26,>=1.21.1 in /usr/local/lib/python3.7/dist-packages (from requests->gradio) (1.24.3)\n",
            "Requirement already satisfied: certifi>=2017.4.17 in /usr/local/lib/python3.7/dist-packages (from requests->gradio) (2022.6.15)\n",
            "Requirement already satisfied: chardet<4,>=3.0.2 in /usr/local/lib/python3.7/dist-packages (from requests->gradio) (3.0.4)\n",
            "Collecting starlette==0.19.1\n",
            "  Downloading starlette-0.19.1-py3-none-any.whl (63 kB)\n",
            "\u001b[K     |████████████████████████████████| 63 kB 1.6 MB/s \n",
            "\u001b[?25hCollecting anyio<5,>=3.4.0\n",
            "  Downloading anyio-3.6.1-py3-none-any.whl (80 kB)\n",
            "\u001b[K     |████████████████████████████████| 80 kB 7.9 MB/s \n",
            "\u001b[?25hCollecting sniffio>=1.1\n",
            "  Downloading sniffio-1.2.0-py3-none-any.whl (10 kB)\n",
            "Collecting rfc3986[idna2008]<2,>=1.3\n",
            "  Downloading rfc3986-1.5.0-py2.py3-none-any.whl (31 kB)\n",
            "Collecting httpcore<0.16.0,>=0.15.0\n",
            "  Downloading httpcore-0.15.0-py3-none-any.whl (68 kB)\n",
            "\u001b[K     |████████████████████████████████| 68 kB 5.4 MB/s \n",
            "\u001b[?25hCollecting h11<0.13,>=0.11\n",
            "  Downloading h11-0.12.0-py3-none-any.whl (54 kB)\n",
            "\u001b[K     |████████████████████████████████| 54 kB 2.7 MB/s \n",
            "\u001b[?25hRequirement already satisfied: MarkupSafe>=0.23 in /usr/local/lib/python3.7/dist-packages (from Jinja2->gradio) (2.0.1)\n",
            "Collecting mdurl~=0.1\n",
            "  Downloading mdurl-0.1.1-py3-none-any.whl (10 kB)\n",
            "Collecting linkify-it-py~=1.0\n",
            "  Downloading linkify_it_py-1.0.3-py3-none-any.whl (19 kB)\n",
            "Collecting mdit-py-plugins\n",
            "  Downloading mdit_py_plugins-0.3.0-py3-none-any.whl (43 kB)\n",
            "\u001b[K     |████████████████████████████████| 43 kB 1.8 MB/s \n",
            "\u001b[?25hCollecting uc-micro-py\n",
            "  Downloading uc_micro_py-1.0.1-py3-none-any.whl (6.2 kB)\n",
            "Requirement already satisfied: pyparsing!=2.0.4,!=2.1.2,!=2.1.6,>=2.0.1 in /usr/local/lib/python3.7/dist-packages (from matplotlib->gradio) (3.0.9)\n",
            "Requirement already satisfied: cycler>=0.10 in /usr/local/lib/python3.7/dist-packages (from matplotlib->gradio) (0.11.0)\n",
            "Requirement already satisfied: kiwisolver>=1.0.1 in /usr/local/lib/python3.7/dist-packages (from matplotlib->gradio) (1.4.3)\n",
            "Requirement already satisfied: pytz>=2017.3 in /usr/local/lib/python3.7/dist-packages (from pandas->gradio) (2022.1)\n",
            "Collecting cryptography>=2.5\n",
            "  Downloading cryptography-37.0.4-cp36-abi3-manylinux_2_24_x86_64.whl (4.1 MB)\n",
            "\u001b[K     |████████████████████████████████| 4.1 MB 42.1 MB/s \n",
            "\u001b[?25hCollecting bcrypt>=3.1.3\n",
            "  Downloading bcrypt-3.2.2-cp36-abi3-manylinux_2_17_x86_64.manylinux2014_x86_64.manylinux_2_24_x86_64.whl (62 kB)\n",
            "\u001b[K     |████████████████████████████████| 62 kB 911 kB/s \n",
            "\u001b[?25hCollecting pynacl>=1.0.1\n",
            "  Downloading PyNaCl-1.5.0-cp36-abi3-manylinux_2_17_x86_64.manylinux2014_x86_64.manylinux_2_24_x86_64.whl (856 kB)\n",
            "\u001b[K     |████████████████████████████████| 856 kB 42.7 MB/s \n",
            "\u001b[?25hRequirement already satisfied: cffi>=1.1 in /usr/local/lib/python3.7/dist-packages (from bcrypt>=3.1.3->paramiko->gradio) (1.15.0)\n",
            "Requirement already satisfied: pycparser in /usr/local/lib/python3.7/dist-packages (from cffi>=1.1->bcrypt>=3.1.3->paramiko->gradio) (2.21)\n",
            "Requirement already satisfied: click>=7.0 in /usr/local/lib/python3.7/dist-packages (from uvicorn->gradio) (7.1.2)\n",
            "Building wheels for collected packages: ffmpy, python-multipart\n",
            "  Building wheel for ffmpy (setup.py) ... \u001b[?25l\u001b[?25hdone\n",
            "  Created wheel for ffmpy: filename=ffmpy-0.3.0-py3-none-any.whl size=4712 sha256=7fc57277763b94f78daba91a959009247ac1d7cd347f7b950ce95698b975175a\n",
            "  Stored in directory: /root/.cache/pip/wheels/13/e4/6c/e8059816e86796a597c6e6b0d4c880630f51a1fcfa0befd5e6\n",
            "  Building wheel for python-multipart (setup.py) ... \u001b[?25l\u001b[?25hdone\n",
            "  Created wheel for python-multipart: filename=python_multipart-0.0.5-py3-none-any.whl size=31678 sha256=47bc166444869bfc1e47de097ecdcc8d2b36f6c2e869cc9d968be3c9e9bfc02d\n",
            "  Stored in directory: /root/.cache/pip/wheels/2c/41/7c/bfd1c180534ffdcc0972f78c5758f89881602175d48a8bcd2c\n",
            "Successfully built ffmpy python-multipart\n",
            "Installing collected packages: sniffio, mdurl, uc-micro-py, rfc3986, multidict, markdown-it-py, h11, frozenlist, anyio, yarl, starlette, pynacl, monotonic, mdit-py-plugins, linkify-it-py, httpcore, cryptography, bcrypt, backoff, asynctest, async-timeout, aiosignal, uvicorn, python-multipart, pydub, pycryptodome, paramiko, orjson, httpx, fsspec, ffmpy, fastapi, analytics-python, aiohttp, gradio\n",
            "Successfully installed aiohttp-3.8.1 aiosignal-1.2.0 analytics-python-1.4.0 anyio-3.6.1 async-timeout-4.0.2 asynctest-0.13.0 backoff-1.10.0 bcrypt-3.2.2 cryptography-37.0.4 fastapi-0.78.0 ffmpy-0.3.0 frozenlist-1.3.0 fsspec-2022.5.0 gradio-3.0.24 h11-0.12.0 httpcore-0.15.0 httpx-0.23.0 linkify-it-py-1.0.3 markdown-it-py-2.1.0 mdit-py-plugins-0.3.0 mdurl-0.1.1 monotonic-1.6 multidict-6.0.2 orjson-3.7.7 paramiko-2.11.0 pycryptodome-3.15.0 pydub-0.25.1 pynacl-1.5.0 python-multipart-0.0.5 rfc3986-1.5.0 sniffio-1.2.0 starlette-0.19.1 uc-micro-py-1.0.1 uvicorn-0.18.2 yarl-1.7.2\n"
          ]
        }
      ],
      "source": [
        "pip install gradio"
      ]
    },
    {
      "cell_type": "code",
      "source": [
        "!wget https://github.com/Jugarcia15/Google-Colab-Retrieval-Repo/raw/main/MN_Full_model.h5"
      ],
      "metadata": {
        "id": "U78EyQhx91h4",
        "colab": {
          "base_uri": "https://localhost:8080/"
        },
        "outputId": "d1777e35-d1a7-40e6-d17f-84e74a550df2"
      },
      "execution_count": 3,
      "outputs": [
        {
          "output_type": "stream",
          "name": "stdout",
          "text": [
            "--2022-07-08 23:20:16--  https://github.com/Jugarcia15/Google-Colab-Retrieval-Repo/raw/main/MN_Full_model.h5\n",
            "Resolving github.com (github.com)... 140.82.112.3\n",
            "Connecting to github.com (github.com)|140.82.112.3|:443... connected.\n",
            "HTTP request sent, awaiting response... 302 Found\n",
            "Location: https://raw.githubusercontent.com/Jugarcia15/Google-Colab-Retrieval-Repo/main/MN_Full_model.h5 [following]\n",
            "--2022-07-08 23:20:17--  https://raw.githubusercontent.com/Jugarcia15/Google-Colab-Retrieval-Repo/main/MN_Full_model.h5\n",
            "Resolving raw.githubusercontent.com (raw.githubusercontent.com)... 185.199.108.133, 185.199.109.133, 185.199.110.133, ...\n",
            "Connecting to raw.githubusercontent.com (raw.githubusercontent.com)|185.199.108.133|:443... connected.\n",
            "HTTP request sent, awaiting response... 200 OK\n",
            "Length: 10495528 (10M) [application/octet-stream]\n",
            "Saving to: ‘MN_Full_model.h5’\n",
            "\n",
            "MN_Full_model.h5    100%[===================>]  10.01M  --.-KB/s    in 0.1s    \n",
            "\n",
            "2022-07-08 23:20:17 (96.4 MB/s) - ‘MN_Full_model.h5’ saved [10495528/10495528]\n",
            "\n"
          ]
        }
      ]
    },
    {
      "cell_type": "code",
      "source": [
        "!wget https://github.com/Jugarcia15/Google-Colab-Retrieval-Repo/raw/main/test.zip\n",
        "!unzip '/content/test.zip'"
      ],
      "metadata": {
        "colab": {
          "base_uri": "https://localhost:8080/"
        },
        "id": "Tv_ldEcq1QKI",
        "outputId": "3db56537-da8a-49db-ddfe-160efb3d98b6"
      },
      "execution_count": 4,
      "outputs": [
        {
          "output_type": "stream",
          "name": "stdout",
          "text": [
            "--2022-07-08 23:20:17--  https://github.com/Jugarcia15/Google-Colab-Retrieval-Repo/raw/main/test.zip\n",
            "Resolving github.com (github.com)... 140.82.113.3\n",
            "Connecting to github.com (github.com)|140.82.113.3|:443... connected.\n",
            "HTTP request sent, awaiting response... 302 Found\n",
            "Location: https://raw.githubusercontent.com/Jugarcia15/Google-Colab-Retrieval-Repo/main/test.zip [following]\n",
            "--2022-07-08 23:20:17--  https://raw.githubusercontent.com/Jugarcia15/Google-Colab-Retrieval-Repo/main/test.zip\n",
            "Resolving raw.githubusercontent.com (raw.githubusercontent.com)... 185.199.111.133, 185.199.110.133, 185.199.109.133, ...\n",
            "Connecting to raw.githubusercontent.com (raw.githubusercontent.com)|185.199.111.133|:443... connected.\n",
            "HTTP request sent, awaiting response... 200 OK\n",
            "Length: 1840533 (1.8M) [application/zip]\n",
            "Saving to: ‘test.zip’\n",
            "\n",
            "test.zip            100%[===================>]   1.75M  --.-KB/s    in 0.06s   \n",
            "\n",
            "2022-07-08 23:20:17 (30.4 MB/s) - ‘test.zip’ saved [1840533/1840533]\n",
            "\n",
            "Archive:  /content/test.zip\n",
            "  inflating: test/3rm.jpg            \n",
            "  inflating: test/ab.jpg             \n",
            "  inflating: test/ab1.jpg            \n",
            "  inflating: test/ab2.jpg            \n",
            "  inflating: test/ab3.jpg            \n",
            "  inflating: test/ab4.jpg            \n",
            "  inflating: test/am (1).jpeg        \n",
            "  inflating: test/am (1).jpg         \n",
            "  inflating: test/am (2).jpg         \n",
            "  inflating: test/am (3).jpg         \n",
            "  inflating: test/am (4).jpg         \n",
            "  inflating: test/am (5).jpg         \n",
            "  inflating: test/am45.jpg           \n",
            "  inflating: test/am7.jpg            \n",
            "  inflating: test/amanita_bisporigera_01.jpg  \n",
            "  inflating: test/be (1).jpg         \n",
            "  inflating: test/be (2).jpg         \n",
            "  inflating: test/be (3).jpg         \n",
            "  inflating: test/be (4).jpg         \n",
            "  inflating: test/be (5).jpg         \n",
            "  inflating: test/boletus-edulis7.jpg  \n",
            "  inflating: test/ca2.jpg            \n",
            "  inflating: test/ca3.jpg            \n",
            "  inflating: test/ca4.jpg            \n",
            "  inflating: test/ca5.jpg            \n",
            "  inflating: test/cantharellus.jpg   \n",
            "  inflating: test/cantharellus1.jpg  \n",
            "  inflating: test/rm.jpg             \n",
            "  inflating: test/rm234.jpg          \n",
            "  inflating: test/rm3.jpg            \n",
            "  inflating: test/rm45.jpg           \n",
            "  inflating: test/rm7.jpg            \n",
            "  inflating: test/rm9.jpg            \n",
            "  inflating: test/russula mariae.jpg  \n"
          ]
        }
      ]
    },
    {
      "cell_type": "code",
      "source": [
        "import tensorflow as tf\n",
        "import tensorflow_hub as hub\n",
        "import gradio as gr\n",
        "import ipywidgets as widgets\n",
        "from ipywidgets import interact, interact_manual\n",
        "from IPython.display import Image\n",
        "from tensorflow.keras.applications.mobilenet_v3 import preprocess_input\n",
        "import os\n",
        "tf.__version__"
      ],
      "metadata": {
        "id": "_vDn5KNw5nwk",
        "colab": {
          "base_uri": "https://localhost:8080/",
          "height": 35
        },
        "outputId": "da087edc-ef67-44b3-f533-cdbdacf6f949"
      },
      "execution_count": 5,
      "outputs": [
        {
          "output_type": "execute_result",
          "data": {
            "text/plain": [
              "'2.8.2'"
            ],
            "application/vnd.google.colaboratory.intrinsic+json": {
              "type": "string"
            }
          },
          "metadata": {},
          "execution_count": 5
        }
      ]
    },
    {
      "cell_type": "markdown",
      "source": [
        "## New Save and load models, Predict functions"
      ],
      "metadata": {
        "id": "BEywMab_2Qdf"
      }
    },
    {
      "cell_type": "code",
      "source": [
        "def save_model(model, suffix=None):\n",
        "  modeldir = os.path.join(\"/content/\",\n",
        "                          datetime.datetime.now().strftime(\"%Y%m%d-%H%M%s\"))\n",
        "  model_path=modeldir+\"-\" + suffix + \".h5\"\n",
        "  print(f\"Saving model to: {model_path}\")\n",
        "  model.save(model_path)\n",
        "  return model_path\n",
        "\n",
        "#create a function to save a model\n",
        "#from tensorflow.keras.models import load_model\n",
        "#model.save('1010_images_model_inceptionv3.h5')\n",
        "def load_model(model_path):\n",
        "  print(f\"loading model from: {model_path}\")\n",
        "  model=tf.keras.models.load_model(model_path,\n",
        "                                   custom_objects={\"KerasLayer\":hub.KerasLayer})\n",
        "  return model\n",
        "\n",
        "class_names=['Amanita Bisporigera',\n",
        "                 'Amanita Muscaria',\n",
        "                 'Boletus Edulis',\n",
        "                 'Cantharellus',\n",
        "                 'Russula Mariae'\n",
        "                 ]\n",
        "\n",
        "gradio_path = '/content/MN_Full_model.h5'\n",
        "gradio_model = load_model(gradio_path)\n",
        "\n",
        "def predict_image(img):\n",
        "  img = img.reshape((-1,224,224,3))\n",
        "  img = tf.keras.applications.mobilenet_v3.preprocess_input(img)\n",
        "  prediction= gradio_model.predict(img).flatten()\n",
        "  confidences={class_names[i]: float(prediction[i]) for i in range(5)}\n",
        "  return confidences"
      ],
      "metadata": {
        "colab": {
          "base_uri": "https://localhost:8080/"
        },
        "id": "K0IVdF575s1E",
        "outputId": "d405a3aa-a2ab-4009-95f7-3424f23edc1d"
      },
      "execution_count": 6,
      "outputs": [
        {
          "output_type": "stream",
          "name": "stdout",
          "text": [
            "loading model from: /content/MN_Full_model.h5\n"
          ]
        }
      ]
    },
    {
      "cell_type": "markdown",
      "source": [
        "# Gradio App"
      ],
      "metadata": {
        "id": "pM9Jc-w319kt"
      }
    },
    {
      "cell_type": "code",
      "source": [
        "print('View files in /Content/Test/')\n",
        "print('These are test images you can download and upload to the fileLoader in Gradio below.')\n",
        "fdir = '/content/test/'\n",
        "@interact \n",
        "def show_test_images(file=os.listdir('/content/test/')):\n",
        "  display(Image(fdir+file))"
      ],
      "metadata": {
        "colab": {
          "base_uri": "https://localhost:8080/",
          "height": 267,
          "referenced_widgets": [
            "9cfc7c1aa820497f8ee2d5783d256e2b",
            "6e5e63e0f4794144bd2bf3fdaac38dc1",
            "3b271e7fe6a34dd0a7d7678196353543",
            "a6ae628a7bfd4e59b5beb30c258cc7f2",
            "86a9201c252f468881bf37602970fd48",
            "1e11d9bf293a416b8c84bfabffae6147",
            "20c4c50ac4c74b49ad04085e19f06fc5"
          ]
        },
        "id": "UDZEkgd90n9S",
        "outputId": "3ffdf6c0-f331-44c0-9cfa-77f98027eb07"
      },
      "execution_count": 7,
      "outputs": [
        {
          "output_type": "stream",
          "name": "stdout",
          "text": [
            "View files in /Content/Test/\n",
            "These are test images you can download and upload to the fileLoader in Gradio below.\n"
          ]
        },
        {
          "output_type": "display_data",
          "data": {
            "text/plain": [
              "interactive(children=(Dropdown(description='file', options=('ab.jpg', 'ca4.jpg', 'ab1.jpg', 'russula mariae.jp…"
            ],
            "application/vnd.jupyter.widget-view+json": {
              "version_major": 2,
              "version_minor": 0,
              "model_id": "9cfc7c1aa820497f8ee2d5783d256e2b"
            }
          },
          "metadata": {}
        }
      ]
    },
    {
      "cell_type": "code",
      "source": [
        "start = gr.Interface(\n",
        "                     title='Mushroom Image Classifier',\n",
        "                     description='Identifying the species of mushrooms given an image of a mushroom.',\n",
        "                     fn=predict_image, \n",
        "                     inputs = gr.inputs.Image(shape=(224,224)), \n",
        "                     outputs = gr.outputs.Label(num_top_classes=5),\n",
        "                     #interpretation='default', \n",
        "                     capture_session=True\n",
        "                     )\n",
        "\n",
        "start.launch(debug='True', share =True)"
      ],
      "metadata": {
        "colab": {
          "base_uri": "https://localhost:8080/",
          "height": 764
        },
        "id": "-ahduvuL53CN",
        "outputId": "891570e9-6b8c-499a-9e4a-b11e14aa6019"
      },
      "execution_count": 8,
      "outputs": [
        {
          "output_type": "stream",
          "name": "stderr",
          "text": [
            "/usr/local/lib/python3.7/dist-packages/gradio/deprecation.py:40: UserWarning: `optional` parameter is deprecated, and it has no effect\n",
            "  warnings.warn(value)\n",
            "/usr/local/lib/python3.7/dist-packages/gradio/deprecation.py:40: UserWarning: The 'type' parameter has been deprecated. Use the Number component instead.\n",
            "  warnings.warn(value)\n",
            "/usr/local/lib/python3.7/dist-packages/gradio/deprecation.py:40: UserWarning: `capture_session` parameter is deprecated, and it has no effect\n",
            "  warnings.warn(value)\n"
          ]
        },
        {
          "output_type": "stream",
          "name": "stdout",
          "text": [
            "Colab notebook detected. This cell will run indefinitely so that you can see errors and logs. To turn off, set debug=False in launch().\n",
            "Running on public URL: https://33672.gradio.app\n",
            "\n",
            "This share link expires in 72 hours. For free permanent hosting, check out Spaces (https://huggingface.co/spaces)\n"
          ]
        },
        {
          "output_type": "display_data",
          "data": {
            "text/plain": [
              "<IPython.core.display.HTML object>"
            ],
            "text/html": [
              "<div><iframe src=\"https://33672.gradio.app\" width=\"900\" height=\"500\" allow=\"autoplay; camera; microphone;\" frameborder=\"0\" allowfullscreen></iframe></div>"
            ]
          },
          "metadata": {}
        },
        {
          "output_type": "stream",
          "name": "stdout",
          "text": [
            "Keyboard interruption in main thread... closing server.\n"
          ]
        },
        {
          "output_type": "execute_result",
          "data": {
            "text/plain": [
              "(<gradio.routes.App at 0x7f59fcc03e90>,\n",
              " 'http://127.0.0.1:7860/',\n",
              " 'https://33672.gradio.app')"
            ]
          },
          "metadata": {},
          "execution_count": 8
        }
      ]
    },
    {
      "cell_type": "markdown",
      "source": [
        "# Streamlit"
      ],
      "metadata": {
        "id": "f2I7zS1gMK2G"
      }
    }
  ]
}